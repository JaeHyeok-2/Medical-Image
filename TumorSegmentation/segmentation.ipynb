{
 "cells": [
  {
   "attachments": {},
   "cell_type": "markdown",
   "metadata": {},
   "source": [
    "### HyperParameter Tau 를 이용한 Tumor Segmentation\n",
    "\n",
    "Red Pixel - (Greed Pixel + Blue Pixel) /2 > tau 에 해당하는 부분을 다른 색으로 채워서 출력"
   ]
  },
  {
   "cell_type": "code",
   "execution_count": 10,
   "metadata": {},
   "outputs": [
    {
     "name": "stdout",
     "output_type": "stream",
     "text": [
      "Requirement already satisfied: pandas in c:\\users\\dlwog\\anaconda3\\lib\\site-packages (1.4.4)\n",
      "Requirement already satisfied: numpy in c:\\users\\dlwog\\anaconda3\\lib\\site-packages (1.21.5)\n",
      "Requirement already satisfied: opencv-python in c:\\users\\dlwog\\anaconda3\\lib\\site-packages (4.7.0.68)\n",
      "Requirement already satisfied: matplotlib in c:\\users\\dlwog\\anaconda3\\lib\\site-packages (3.5.2)\n",
      "Requirement already satisfied: python-dateutil>=2.8.1 in c:\\users\\dlwog\\anaconda3\\lib\\site-packages (from pandas) (2.8.2)\n",
      "Requirement already satisfied: pytz>=2020.1 in c:\\users\\dlwog\\anaconda3\\lib\\site-packages (from pandas) (2022.1)\n",
      "Requirement already satisfied: packaging>=20.0 in c:\\users\\dlwog\\anaconda3\\lib\\site-packages (from matplotlib) (21.3)\n",
      "Requirement already satisfied: fonttools>=4.22.0 in c:\\users\\dlwog\\anaconda3\\lib\\site-packages (from matplotlib) (4.25.0)\n",
      "Requirement already satisfied: kiwisolver>=1.0.1 in c:\\users\\dlwog\\anaconda3\\lib\\site-packages (from matplotlib) (1.4.2)\n",
      "Requirement already satisfied: pyparsing>=2.2.1 in c:\\users\\dlwog\\anaconda3\\lib\\site-packages (from matplotlib) (3.0.9)\n",
      "Requirement already satisfied: cycler>=0.10 in c:\\users\\dlwog\\anaconda3\\lib\\site-packages (from matplotlib) (0.11.0)\n",
      "Requirement already satisfied: pillow>=6.2.0 in c:\\users\\dlwog\\anaconda3\\lib\\site-packages (from matplotlib) (9.2.0)\n",
      "Requirement already satisfied: six>=1.5 in c:\\users\\dlwog\\anaconda3\\lib\\site-packages (from python-dateutil>=2.8.1->pandas) (1.16.0)\n",
      "Requirement already satisfied: pillow in c:\\users\\dlwog\\anaconda3\\lib\\site-packages (9.2.0)\n",
      "Requirement already satisfied: tqdm in c:\\users\\dlwog\\anaconda3\\lib\\site-packages (4.64.1)\n",
      "Requirement already satisfied: colorama in c:\\users\\dlwog\\anaconda3\\lib\\site-packages (from tqdm) (0.4.5)\n"
     ]
    }
   ],
   "source": [
    "! pip install pandas numpy opencv-python matplotlib \n",
    "! pip install pillow \n",
    "! pip install tqdm"
   ]
  },
  {
   "cell_type": "code",
   "execution_count": 2,
   "metadata": {},
   "outputs": [],
   "source": [
    "import pandas as pd \n",
    "import numpy as np \n",
    "import matplotlib.pyplot as plt \n",
    "import cv2 \n",
    "import os \n",
    "from tqdm import tqdm\n",
    "\n",
    "from PIL import Image \n",
    "IMAGE_PATH = [\"SF18_00841_N.jpg\", \"SS17-77649_N.jpg\", \"SS18-19871_N.jpg\", \"SS21-26050_P.jpg\", \"SS22-26507_P.jpg\", \"SS22-65597_P.jpg\"]"
   ]
  },
  {
   "attachments": {},
   "cell_type": "markdown",
   "metadata": {},
   "source": [
    "#### Check whether Images are Loading "
   ]
  },
  {
   "cell_type": "code",
   "execution_count": 3,
   "metadata": {},
   "outputs": [],
   "source": [
    "N_00841 = Image.open(IMAGE_PATH[0])\n",
    "N_77649 = Image.open(IMAGE_PATH[1])\n",
    "N_19871 = Image.open(IMAGE_PATH[2])\n",
    "P_26050 = Image.open(IMAGE_PATH[3])\n",
    "P_26507 = Image.open(IMAGE_PATH[4])\n",
    "P_65596 = Image.open(IMAGE_PATH[5])"
   ]
  },
  {
   "attachments": {},
   "cell_type": "markdown",
   "metadata": {},
   "source": [
    "- 각 이미지의 크기와 특징들을 출력"
   ]
  },
  {
   "cell_type": "code",
   "execution_count": 4,
   "metadata": {},
   "outputs": [],
   "source": [
    "def info_image(image_path):\n",
    "    print(\"************************************\") \n",
    "    for path in image_path:\n",
    "        img = Image.open(path)\n",
    "        print(f\"이미지의 이름 : {path}\") \n",
    "        print(f\"이미지의 형식(formatting) : {img.format}\")\n",
    "        print(f\"이미지의 용량(size) : {img.size}\")\n",
    "        print(f\"이미지의 색상모드 :{img.mode}\")\n",
    "        print(f\"이미지의 Width : {img.width}\")\n",
    "        print(f\"이미지의 Height : {img.height}\")\n",
    "\n",
    "        print(\"************************************\") \n"
   ]
  },
  {
   "cell_type": "code",
   "execution_count": 14,
   "metadata": {},
   "outputs": [
    {
     "name": "stdout",
     "output_type": "stream",
     "text": [
      "************************************\n",
      "이미지의 이름 : SF18_00841_N.jpg\n",
      "이미지의 형식(formatting) : JPEG\n",
      "이미지의 용량(size) : (7817, 5536)\n",
      "이미지의 색상모드 :RGB\n",
      "이미지의 Width : 7817\n",
      "이미지의 Height : 5536\n",
      "************************************\n",
      "이미지의 이름 : SS17-77649_N.jpg\n",
      "이미지의 형식(formatting) : JPEG\n",
      "이미지의 용량(size) : (6498, 5536)\n",
      "이미지의 색상모드 :RGB\n",
      "이미지의 Width : 6498\n",
      "이미지의 Height : 5536\n",
      "************************************\n",
      "이미지의 이름 : SS18-19871_N.jpg\n",
      "이미지의 형식(formatting) : JPEG\n",
      "이미지의 용량(size) : (7817, 5536)\n",
      "이미지의 색상모드 :RGB\n",
      "이미지의 Width : 7817\n",
      "이미지의 Height : 5536\n",
      "************************************\n",
      "이미지의 이름 : SS21-26050_P.jpg\n",
      "이미지의 형식(formatting) : JPEG\n",
      "이미지의 용량(size) : (9912, 5536)\n",
      "이미지의 색상모드 :RGB\n",
      "이미지의 Width : 9912\n",
      "이미지의 Height : 5536\n",
      "************************************\n",
      "이미지의 이름 : SS22-26507_P.jpg\n",
      "이미지의 형식(formatting) : JPEG\n",
      "이미지의 용량(size) : (8840, 5302)\n",
      "이미지의 색상모드 :RGB\n",
      "이미지의 Width : 8840\n",
      "이미지의 Height : 5302\n",
      "************************************\n",
      "이미지의 이름 : SS22-65597_P.jpg\n",
      "이미지의 형식(formatting) : JPEG\n",
      "이미지의 용량(size) : (4773, 3928)\n",
      "이미지의 색상모드 :RGB\n",
      "이미지의 Width : 4773\n",
      "이미지의 Height : 3928\n",
      "************************************\n"
     ]
    }
   ],
   "source": [
    "info_image(IMAGE_PATH)"
   ]
  },
  {
   "attachments": {},
   "cell_type": "markdown",
   "metadata": {},
   "source": [
    "- 해당 Heatmap으로 만들어진 이미지는 원본 Svs file의 1/16 크키\n",
    "- Patch size 가 32, 64 크기로 만들예정이므로, 2x2, 4x4 로 Jpg 영역을 확인해봐야 할 거 같음"
   ]
  },
  {
   "cell_type": "code",
   "execution_count": 1,
   "metadata": {},
   "outputs": [],
   "source": [
    "# SF18_00841_N.jpg 을 기준으로 시작해보자\n",
    "# 4x4 로 만든다고 가정하고, Row, Col은 해당 Patch Size로 짤릴 수 있을 만큼\n",
    "\n",
    "def make_segmentation_Image(image_path, tau, patch_size=2):\n",
    "    for path in tqdm(image_path):\n",
    "        print(f\"Current Processins Image : {path}, Tau : {tau}, Patch Size : {patch_size}\")\n",
    "        image = Image.open(path)\n",
    "        # segment_image = image.copy()\n",
    "        image_width, image_height = image.width, image.height\n",
    "        color = (255, 255, 255)\n",
    "        segment_image = Image.new(\"RGB\", (image_width, image_height), color) \n",
    "        # Patch로 만들 때, 해당 Patch Size로 잘라야 하므로, image_size //patch_size == 0이 되도록 설정\n",
    "        MAX_WIDTH = image_width\n",
    "        MAX_HEIGHT = image_height\n",
    "\n",
    "        def is_verify(patch, tau, patch_size):\n",
    "            sum_r, sum_g, sum_b = 0, 0, 0\n",
    "            for pixel in patch.getdata():\n",
    "                sum_r += pixel[0]\n",
    "                sum_g += pixel[1]\n",
    "                sum_b += pixel[2]\n",
    "    \n",
    "            if (sum_r - (sum_g + sum_b)/2) / (patch_size ** 2) > tau : \n",
    "                return True\n",
    "            else:\n",
    "                return False\n",
    "\n",
    "        for h in range(0, MAX_HEIGHT - patch_size, patch_size):\n",
    "            for w in range(0, MAX_WIDTH - patch_size, patch_size):\n",
    "                # patch_x, patch_y, patch_h, patch _w : 패치 시작점 X, Y 좌표, 패치 높이, 너비\n",
    "                # list(image.crop((patch_x, patch_y, patch_x+patch_w, patch_y+patch_h)).getdata())\n",
    "                patch = image.crop((w, h, w + patch_size, h + patch_size))\n",
    "                if is_verify(patch, tau, patch_size):\n",
    "                    # 무슨 색으로 칠할지 고민즁 ... 보라색 : [139, 0, 255]\n",
    "                    new_pixels = [(0, 0,255) for _ in range(patch_size)]\n",
    "                    patch.putdata(new_pixels)\n",
    "\n",
    "                    # 이미지에 해당 패치에 해당하는 부분의 픽셀값을 넣기\n",
    "                    segment_image.paste(patch, (w, h))\n",
    "        # 만들고자 하는 Segment 폴더 생성\n",
    "        if not os.path.exists(f\"segment_image/patch_{patch_size}_0316\"):\n",
    "            os.mkdir(f\"segment_image/patch_{patch_size}_0316\")\n",
    "        print(f\"Saving segment_image/patch_{patch_size}_0316/{path[:-4]}_tau={tau}.jpg ...\")\n",
    "        segment_image.save(f\"segment_image/patch_{patch_size}_0316/{path[:-4]}_tau={tau}.jpg\")\n",
    "        print(\"Save Complete !!\")"
   ]
  },
  {
   "attachments": {},
   "cell_type": "markdown",
   "metadata": {},
   "source": [
    "### Patch Size : 2 "
   ]
  },
  {
   "cell_type": "code",
   "execution_count": 5,
   "metadata": {},
   "outputs": [
    {
     "name": "stderr",
     "output_type": "stream",
     "text": [
      "  0%|          | 0/6 [00:00<?, ?it/s]"
     ]
    },
    {
     "name": "stdout",
     "output_type": "stream",
     "text": [
      "Current Processins Image : SF18_00841_N.jpg, Tau : 99, Patch Size : 2\n",
      "Saving segment_image/patch_2_0316/SF18_00841_N_tau=99.jpg ...\n"
     ]
    },
    {
     "name": "stderr",
     "output_type": "stream",
     "text": []
    },
    {
     "name": "stdout",
     "output_type": "stream",
     "text": [
      "Save Complete !!\n",
      "Current Processins Image : SS17-77649_N.jpg, Tau : 99, Patch Size : 2\n",
      "Saving segment_image/patch_2_0316/SS17-77649_N_tau=99.jpg ...\n"
     ]
    },
    {
     "name": "stderr",
     "output_type": "stream",
     "text": []
    },
    {
     "name": "stdout",
     "output_type": "stream",
     "text": [
      "Save Complete !!\n",
      "Current Processins Image : SS18-19871_N.jpg, Tau : 99, Patch Size : 2\n"
     ]
    },
    {
     "name": "stderr",
     "output_type": "stream",
     "text": [
      " 33%|███▎      | 2/6 [02:08<04:17, 64.27s/it]\n",
      "  0%|          | 0/6 [02:08<?, ?it/s]\n"
     ]
    },
    {
     "ename": "KeyboardInterrupt",
     "evalue": "",
     "output_type": "error",
     "traceback": [
      "\u001b[1;31m---------------------------------------------------------------------------\u001b[0m",
      "\u001b[1;31mKeyboardInterrupt\u001b[0m                         Traceback (most recent call last)",
      "\u001b[1;32m~\\AppData\\Local\\Temp\\ipykernel_23604\\2176959986.py\u001b[0m in \u001b[0;36m<module>\u001b[1;34m\u001b[0m\n\u001b[0;32m      1\u001b[0m \u001b[0mTau\u001b[0m \u001b[1;33m=\u001b[0m \u001b[1;33m[\u001b[0m\u001b[0mi\u001b[0m \u001b[1;32mfor\u001b[0m \u001b[0mi\u001b[0m \u001b[1;32min\u001b[0m \u001b[0mrange\u001b[0m\u001b[1;33m(\u001b[0m\u001b[1;36m99\u001b[0m\u001b[1;33m,\u001b[0m\u001b[1;36m105\u001b[0m\u001b[1;33m)\u001b[0m\u001b[1;33m]\u001b[0m\u001b[1;33m\u001b[0m\u001b[1;33m\u001b[0m\u001b[0m\n\u001b[0;32m      2\u001b[0m \u001b[1;32mfor\u001b[0m \u001b[0mtau\u001b[0m \u001b[1;32min\u001b[0m \u001b[0mtqdm\u001b[0m\u001b[1;33m(\u001b[0m\u001b[0mTau\u001b[0m\u001b[1;33m)\u001b[0m\u001b[1;33m:\u001b[0m\u001b[1;33m\u001b[0m\u001b[1;33m\u001b[0m\u001b[0m\n\u001b[1;32m----> 3\u001b[1;33m     \u001b[0mmake_segmentation_Image\u001b[0m\u001b[1;33m(\u001b[0m\u001b[0mIMAGE_PATH\u001b[0m\u001b[1;33m,\u001b[0m \u001b[0mtau\u001b[0m\u001b[1;33m)\u001b[0m\u001b[1;33m\u001b[0m\u001b[1;33m\u001b[0m\u001b[0m\n\u001b[0m",
      "\u001b[1;32m~\\AppData\\Local\\Temp\\ipykernel_23604\\2357148151.py\u001b[0m in \u001b[0;36mmake_segmentation_Image\u001b[1;34m(image_path, tau, patch_size)\u001b[0m\n\u001b[0;32m     30\u001b[0m                 \u001b[1;31m# patch_x, patch_y, patch_h, patch _w : 패치 시작점 X, Y 좌표, 패치 높이, 너비\u001b[0m\u001b[1;33m\u001b[0m\u001b[1;33m\u001b[0m\u001b[0m\n\u001b[0;32m     31\u001b[0m                 \u001b[1;31m# list(image.crop((patch_x, patch_y, patch_x+patch_w, patch_y+patch_h)).getdata())\u001b[0m\u001b[1;33m\u001b[0m\u001b[1;33m\u001b[0m\u001b[0m\n\u001b[1;32m---> 32\u001b[1;33m                 \u001b[0mpatch\u001b[0m \u001b[1;33m=\u001b[0m \u001b[0mimage\u001b[0m\u001b[1;33m.\u001b[0m\u001b[0mcrop\u001b[0m\u001b[1;33m(\u001b[0m\u001b[1;33m(\u001b[0m\u001b[0mw\u001b[0m\u001b[1;33m,\u001b[0m \u001b[0mh\u001b[0m\u001b[1;33m,\u001b[0m \u001b[0mw\u001b[0m \u001b[1;33m+\u001b[0m \u001b[0mpatch_size\u001b[0m\u001b[1;33m,\u001b[0m \u001b[0mh\u001b[0m \u001b[1;33m+\u001b[0m \u001b[0mpatch_size\u001b[0m\u001b[1;33m)\u001b[0m\u001b[1;33m)\u001b[0m\u001b[1;33m\u001b[0m\u001b[1;33m\u001b[0m\u001b[0m\n\u001b[0m\u001b[0;32m     33\u001b[0m                 \u001b[1;32mif\u001b[0m \u001b[0mis_verify\u001b[0m\u001b[1;33m(\u001b[0m\u001b[0mpatch\u001b[0m\u001b[1;33m,\u001b[0m \u001b[0mtau\u001b[0m\u001b[1;33m,\u001b[0m \u001b[0mpatch_size\u001b[0m\u001b[1;33m)\u001b[0m\u001b[1;33m:\u001b[0m\u001b[1;33m\u001b[0m\u001b[1;33m\u001b[0m\u001b[0m\n\u001b[0;32m     34\u001b[0m                     \u001b[1;31m# 무슨 색으로 칠할지 고민즁 ... 보라색 : [139, 0, 255]\u001b[0m\u001b[1;33m\u001b[0m\u001b[1;33m\u001b[0m\u001b[0m\n",
      "\u001b[1;32mc:\\Users\\dlwog\\anaconda3\\lib\\site-packages\\PIL\\Image.py\u001b[0m in \u001b[0;36mcrop\u001b[1;34m(self, box)\u001b[0m\n\u001b[0;32m   1174\u001b[0m \u001b[1;33m\u001b[0m\u001b[0m\n\u001b[0;32m   1175\u001b[0m         \u001b[0mself\u001b[0m\u001b[1;33m.\u001b[0m\u001b[0mload\u001b[0m\u001b[1;33m(\u001b[0m\u001b[1;33m)\u001b[0m\u001b[1;33m\u001b[0m\u001b[1;33m\u001b[0m\u001b[0m\n\u001b[1;32m-> 1176\u001b[1;33m         \u001b[1;32mreturn\u001b[0m \u001b[0mself\u001b[0m\u001b[1;33m.\u001b[0m\u001b[0m_new\u001b[0m\u001b[1;33m(\u001b[0m\u001b[0mself\u001b[0m\u001b[1;33m.\u001b[0m\u001b[0m_crop\u001b[0m\u001b[1;33m(\u001b[0m\u001b[0mself\u001b[0m\u001b[1;33m.\u001b[0m\u001b[0mim\u001b[0m\u001b[1;33m,\u001b[0m \u001b[0mbox\u001b[0m\u001b[1;33m)\u001b[0m\u001b[1;33m)\u001b[0m\u001b[1;33m\u001b[0m\u001b[1;33m\u001b[0m\u001b[0m\n\u001b[0m\u001b[0;32m   1177\u001b[0m \u001b[1;33m\u001b[0m\u001b[0m\n\u001b[0;32m   1178\u001b[0m     \u001b[1;32mdef\u001b[0m \u001b[0m_crop\u001b[0m\u001b[1;33m(\u001b[0m\u001b[0mself\u001b[0m\u001b[1;33m,\u001b[0m \u001b[0mim\u001b[0m\u001b[1;33m,\u001b[0m \u001b[0mbox\u001b[0m\u001b[1;33m)\u001b[0m\u001b[1;33m:\u001b[0m\u001b[1;33m\u001b[0m\u001b[1;33m\u001b[0m\u001b[0m\n",
      "\u001b[1;32mc:\\Users\\dlwog\\anaconda3\\lib\\site-packages\\PIL\\Image.py\u001b[0m in \u001b[0;36m_crop\u001b[1;34m(self, im, box)\u001b[0m\n\u001b[0;32m   1194\u001b[0m         \u001b[0m_decompression_bomb_check\u001b[0m\u001b[1;33m(\u001b[0m\u001b[0mabsolute_values\u001b[0m\u001b[1;33m)\u001b[0m\u001b[1;33m\u001b[0m\u001b[1;33m\u001b[0m\u001b[0m\n\u001b[0;32m   1195\u001b[0m \u001b[1;33m\u001b[0m\u001b[0m\n\u001b[1;32m-> 1196\u001b[1;33m         \u001b[1;32mreturn\u001b[0m \u001b[0mim\u001b[0m\u001b[1;33m.\u001b[0m\u001b[0mcrop\u001b[0m\u001b[1;33m(\u001b[0m\u001b[1;33m(\u001b[0m\u001b[0mx0\u001b[0m\u001b[1;33m,\u001b[0m \u001b[0my0\u001b[0m\u001b[1;33m,\u001b[0m \u001b[0mx1\u001b[0m\u001b[1;33m,\u001b[0m \u001b[0my1\u001b[0m\u001b[1;33m)\u001b[0m\u001b[1;33m)\u001b[0m\u001b[1;33m\u001b[0m\u001b[1;33m\u001b[0m\u001b[0m\n\u001b[0m\u001b[0;32m   1197\u001b[0m \u001b[1;33m\u001b[0m\u001b[0m\n\u001b[0;32m   1198\u001b[0m     \u001b[1;32mdef\u001b[0m \u001b[0mdraft\u001b[0m\u001b[1;33m(\u001b[0m\u001b[0mself\u001b[0m\u001b[1;33m,\u001b[0m \u001b[0mmode\u001b[0m\u001b[1;33m,\u001b[0m \u001b[0msize\u001b[0m\u001b[1;33m)\u001b[0m\u001b[1;33m:\u001b[0m\u001b[1;33m\u001b[0m\u001b[1;33m\u001b[0m\u001b[0m\n",
      "\u001b[1;31mKeyboardInterrupt\u001b[0m: "
     ]
    }
   ],
   "source": [
    "Tau = [i for i in range(99,105)]\n",
    "for tau in tqdm(Tau):\n",
    "    make_segmentation_Image(IMAGE_PATH, tau)"
   ]
  },
  {
   "attachments": {},
   "cell_type": "markdown",
   "metadata": {},
   "source": [
    "### Patch Size : 4"
   ]
  },
  {
   "cell_type": "code",
   "execution_count": null,
   "metadata": {},
   "outputs": [],
   "source": [
    "Tau = [i for i in range(80, 155)]\n",
    "for tau in tqdm(Tau):\n",
    "    make_segmentation_Image(IMAGE_PATH, tau, patch_size=4)"
   ]
  },
  {
   "cell_type": "code",
   "execution_count": null,
   "metadata": {},
   "outputs": [],
   "source": []
  }
 ],
 "metadata": {
  "kernelspec": {
   "display_name": "base",
   "language": "python",
   "name": "python3"
  },
  "language_info": {
   "codemirror_mode": {
    "name": "ipython",
    "version": 3
   },
   "file_extension": ".py",
   "mimetype": "text/x-python",
   "name": "python",
   "nbconvert_exporter": "python",
   "pygments_lexer": "ipython3",
   "version": "3.9.13"
  },
  "orig_nbformat": 4,
  "vscode": {
   "interpreter": {
    "hash": "2fd175f7d3109493019788efb68e610775ae1051a440df2f3acd96194612c25d"
   }
  }
 },
 "nbformat": 4,
 "nbformat_minor": 2
}
